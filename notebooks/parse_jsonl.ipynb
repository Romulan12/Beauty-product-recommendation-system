{
 "cells": [
  {
   "cell_type": "code",
   "execution_count": 1,
   "id": "deaa85c6-acf8-46d6-9b7e-da4a15401d38",
   "metadata": {},
   "outputs": [],
   "source": [
    "import json\n",
    "from datetime import datetime\n",
    "import pandas as pd \n",
    "from tqdm import tqdm\n",
    "\n",
    "import numpy as np"
   ]
  },
  {
   "cell_type": "code",
   "execution_count": 3,
   "id": "71cd93ed-c4a9-4641-ace0-cd28e20c2196",
   "metadata": {},
   "outputs": [
    {
     "name": "stderr",
     "output_type": "stream",
     "text": [
      "0it [00:00, ?it/s]"
     ]
    },
    {
     "name": "stderr",
     "output_type": "stream",
     "text": [
      "23911390it [01:15, 316416.90it/s]\n"
     ]
    }
   ],
   "source": [
    "file = \"../data/Beauty_and_Personal_Care.jsonl\"\n",
    "data = []\n",
    "\n",
    "with open(file, 'r') as fp:\n",
    "    for line in tqdm(fp):\n",
    "        \n",
    "        dat = json.loads(line.strip())\n",
    "        if datetime.fromtimestamp(dat[\"timestamp\"] / 1000).year >= 2019:\n",
    "            data.append({key: dat[key] for key in [\"user_id\", \"asin\", \"parent_asin\", \"rating\", \"timestamp\"]})"
   ]
  },
  {
   "cell_type": "code",
   "execution_count": 4,
   "id": "1853d6eb-43e8-4e16-bc80-fd2e208ef210",
   "metadata": {},
   "outputs": [],
   "source": [
    "product_data = pd.DataFrame(data)\n",
    "product_data[\"year\"] = product_data[\"timestamp\"].apply(lambda x: datetime.fromtimestamp(x / 1000).year)\n",
    "\n",
    "product_data.to_parquet(\"Beauty_and_Personal_Care.parquet\")"
   ]
  },
  {
   "cell_type": "code",
   "execution_count": 5,
   "id": "ac411e68",
   "metadata": {},
   "outputs": [
    {
     "data": {
      "text/plain": [
       "year\n",
       "2021    3723646\n",
       "2022    3684304\n",
       "2020    3551569\n",
       "2019    2585809\n",
       "2023    1677485\n",
       "Name: count, dtype: int64"
      ]
     },
     "execution_count": 5,
     "metadata": {},
     "output_type": "execute_result"
    }
   ],
   "source": [
    "product_data[\"year\"].value_counts()"
   ]
  },
  {
   "cell_type": "markdown",
   "id": "f3e28535-7dde-41f7-8a5d-4978a782898e",
   "metadata": {},
   "source": [
    "# Load Meta Data"
   ]
  },
  {
   "cell_type": "code",
   "execution_count": null,
   "id": "296c5eb2-bf1c-49b4-ac10-c29112360504",
   "metadata": {},
   "outputs": [
    {
     "name": "stderr",
     "output_type": "stream",
     "text": [
      "128193it [27:33, 72.66it/s] "
     ]
    }
   ],
   "source": [
    "file = \"../data/meta_Beauty_and_Personal_Care.jsonl\"\n",
    "data = []\n",
    "\n",
    "parent_asin = product_data[\"parent_asin\"].unique().tolist()\n",
    "\n",
    "with open(file, 'r') as fp:\n",
    "    for line in tqdm(fp):\n",
    "        \n",
    "        dat = json.loads(line.strip())\n",
    "\n",
    "        if dat[\"parent_asin\"] in parent_asin:\n",
    "            data.append(dat)"
   ]
  },
  {
   "cell_type": "code",
   "execution_count": null,
   "id": "67a95b74-f929-4c80-ae77-639ab83d2860",
   "metadata": {},
   "outputs": [],
   "source": [
    "meta = pd.DataFrame(data)"
   ]
  },
  {
   "cell_type": "code",
   "execution_count": null,
   "id": "dc832e09",
   "metadata": {},
   "outputs": [],
   "source": [
    "def format_price(price):\n",
    "\n",
    "    if type(price) == str and \"from\" in price:\n",
    "        return float(price.replace(\"from\", \"\").strip())\n",
    "    elif type(price) == str:\n",
    "        return np.nan\n",
    "    else:\n",
    "        return price"
   ]
  },
  {
   "cell_type": "code",
   "execution_count": null,
   "id": "656f911f-4792-4b17-ba7d-4abb88a1da6b",
   "metadata": {},
   "outputs": [
    {
     "data": {
      "text/plain": [
       "year\n",
       "2021    1881733\n",
       "2022    1667588\n",
       "2023     651447\n",
       "Name: count, dtype: int64"
      ]
     },
     "execution_count": 11,
     "metadata": {},
     "output_type": "execute_result"
    }
   ],
   "source": [
    "meta[\"price\"] = meta[\"price\"].apply(lambda x: format_price(x))"
   ]
  },
  {
   "cell_type": "code",
   "execution_count": null,
   "id": "0c57b6ca-4359-49a4-a55c-2e0a512862d3",
   "metadata": {},
   "outputs": [],
   "source": [
    "meta.to_parquet(\"meta_Beauty_and_Personal_Care.parquet\")"
   ]
  }
 ],
 "metadata": {
  "kernelspec": {
   "display_name": "py312_project",
   "language": "python",
   "name": "python3"
  },
  "language_info": {
   "codemirror_mode": {
    "name": "ipython",
    "version": 3
   },
   "file_extension": ".py",
   "mimetype": "text/x-python",
   "name": "python",
   "nbconvert_exporter": "python",
   "pygments_lexer": "ipython3",
   "version": "3.12.0"
  }
 },
 "nbformat": 4,
 "nbformat_minor": 5
}
