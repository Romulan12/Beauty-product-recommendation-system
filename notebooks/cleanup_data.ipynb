{
 "cells": [
  {
   "cell_type": "code",
   "execution_count": null,
   "id": "4f6032b7-8cb8-4da6-8e85-e050986c72ed",
   "metadata": {},
   "outputs": [],
   "source": [
    "import pandas as pd \n",
    "import category_encoders as ce\n"
   ]
  },
  {
   "cell_type": "code",
   "execution_count": 2,
   "id": "64451e84-904f-4f52-8650-e64ed037532e",
   "metadata": {},
   "outputs": [],
   "source": [
    "df = pd.read_parquet(\"meta_Beauty_and_Personal_Care_raw.parquet\")"
   ]
  },
  {
   "cell_type": "code",
   "execution_count": 3,
   "id": "d976ee7a-df89-4de8-8361-52900f47cce0",
   "metadata": {},
   "outputs": [],
   "source": [
    "beauty_data = df[df[\"main_category\"]==\"All Beauty\"]"
   ]
  },
  {
   "cell_type": "code",
   "execution_count": 4,
   "id": "017ef172-91e1-454e-8f3e-3016dfe64cf3",
   "metadata": {},
   "outputs": [
    {
     "name": "stderr",
     "output_type": "stream",
     "text": [
      "/var/folders/1n/0vbkzl6j51vfpgzy8_xndtxh0000gn/T/ipykernel_95323/3873702081.py:1: SettingWithCopyWarning: \n",
      "A value is trying to be set on a copy of a slice from a DataFrame\n",
      "\n",
      "See the caveats in the documentation: https://pandas.pydata.org/pandas-docs/stable/user_guide/indexing.html#returning-a-view-versus-a-copy\n",
      "  beauty_data.drop(columns=[\"images\", \"videos\", \"main_category\", 'bought_together', 'subtitle', 'author'], inplace=True)\n"
     ]
    }
   ],
   "source": [
    "beauty_data.drop(columns=[\"images\", \"videos\", \"main_category\", 'bought_together', 'subtitle', 'author'], inplace=True)"
   ]
  },
  {
   "cell_type": "code",
   "execution_count": 5,
   "id": "d84b3d98-b3b0-4f3f-8ada-9d342e36dcb3",
   "metadata": {},
   "outputs": [
    {
     "name": "stderr",
     "output_type": "stream",
     "text": [
      "/var/folders/1n/0vbkzl6j51vfpgzy8_xndtxh0000gn/T/ipykernel_95323/2767775528.py:1: SettingWithCopyWarning: \n",
      "A value is trying to be set on a copy of a slice from a DataFrame.\n",
      "Try using .loc[row_indexer,col_indexer] = value instead\n",
      "\n",
      "See the caveats in the documentation: https://pandas.pydata.org/pandas-docs/stable/user_guide/indexing.html#returning-a-view-versus-a-copy\n",
      "  beauty_data[\"categories_1\"] = beauty_data[\"categories\"].apply(lambda x: x[0] if len(x) >= 1 else \"\")\n",
      "/var/folders/1n/0vbkzl6j51vfpgzy8_xndtxh0000gn/T/ipykernel_95323/2767775528.py:2: SettingWithCopyWarning: \n",
      "A value is trying to be set on a copy of a slice from a DataFrame.\n",
      "Try using .loc[row_indexer,col_indexer] = value instead\n",
      "\n",
      "See the caveats in the documentation: https://pandas.pydata.org/pandas-docs/stable/user_guide/indexing.html#returning-a-view-versus-a-copy\n",
      "  beauty_data[\"categories_2\"] = beauty_data[\"categories\"].apply(lambda x: x[1] if len(x) >= 2 else \"\")\n",
      "/var/folders/1n/0vbkzl6j51vfpgzy8_xndtxh0000gn/T/ipykernel_95323/2767775528.py:3: SettingWithCopyWarning: \n",
      "A value is trying to be set on a copy of a slice from a DataFrame.\n",
      "Try using .loc[row_indexer,col_indexer] = value instead\n",
      "\n",
      "See the caveats in the documentation: https://pandas.pydata.org/pandas-docs/stable/user_guide/indexing.html#returning-a-view-versus-a-copy\n",
      "  beauty_data[\"categories_3\"] = beauty_data[\"categories\"].apply(lambda x: x[2] if len(x) >= 3 else \"\")\n",
      "/var/folders/1n/0vbkzl6j51vfpgzy8_xndtxh0000gn/T/ipykernel_95323/2767775528.py:4: SettingWithCopyWarning: \n",
      "A value is trying to be set on a copy of a slice from a DataFrame.\n",
      "Try using .loc[row_indexer,col_indexer] = value instead\n",
      "\n",
      "See the caveats in the documentation: https://pandas.pydata.org/pandas-docs/stable/user_guide/indexing.html#returning-a-view-versus-a-copy\n",
      "  beauty_data[\"categories_4\"] = beauty_data[\"categories\"].apply(lambda x: x[3] if len(x) >= 4 else \"\")\n",
      "/var/folders/1n/0vbkzl6j51vfpgzy8_xndtxh0000gn/T/ipykernel_95323/2767775528.py:5: SettingWithCopyWarning: \n",
      "A value is trying to be set on a copy of a slice from a DataFrame.\n",
      "Try using .loc[row_indexer,col_indexer] = value instead\n",
      "\n",
      "See the caveats in the documentation: https://pandas.pydata.org/pandas-docs/stable/user_guide/indexing.html#returning-a-view-versus-a-copy\n",
      "  beauty_data[\"categories_5\"] = beauty_data[\"categories\"].apply(lambda x: x[4] if len(x) >= 5 else \"\")\n",
      "/var/folders/1n/0vbkzl6j51vfpgzy8_xndtxh0000gn/T/ipykernel_95323/2767775528.py:6: SettingWithCopyWarning: \n",
      "A value is trying to be set on a copy of a slice from a DataFrame.\n",
      "Try using .loc[row_indexer,col_indexer] = value instead\n",
      "\n",
      "See the caveats in the documentation: https://pandas.pydata.org/pandas-docs/stable/user_guide/indexing.html#returning-a-view-versus-a-copy\n",
      "  beauty_data[\"categories_6\"] = beauty_data[\"categories\"].apply(lambda x: x[5] if len(x) >= 6 else \"\")\n"
     ]
    }
   ],
   "source": [
    "beauty_data[\"categories_1\"] = beauty_data[\"categories\"].apply(lambda x: x[0] if len(x) >= 1 else \"\")\n",
    "beauty_data[\"categories_2\"] = beauty_data[\"categories\"].apply(lambda x: x[1] if len(x) >= 2 else \"\")\n",
    "beauty_data[\"categories_3\"] = beauty_data[\"categories\"].apply(lambda x: x[2] if len(x) >= 3 else \"\")\n",
    "beauty_data[\"categories_4\"] = beauty_data[\"categories\"].apply(lambda x: x[3] if len(x) >= 4 else \"\")\n",
    "beauty_data[\"categories_5\"] = beauty_data[\"categories\"].apply(lambda x: x[4] if len(x) >= 5 else \"\")\n",
    "beauty_data[\"categories_6\"] = beauty_data[\"categories\"].apply(lambda x: x[5] if len(x) >= 6 else \"\")"
   ]
  },
  {
   "cell_type": "code",
   "execution_count": 6,
   "id": "5f5669be-d638-4b58-bebe-cb2e0302fd20",
   "metadata": {},
   "outputs": [],
   "source": [
    "_beauty_data = beauty_data.dropna(subset=[\"average_rating\", \"rating_number\",\"store\" , \"price\", \"categories\", \"parent_asin\"])"
   ]
  },
  {
   "cell_type": "code",
   "execution_count": null,
   "id": "d563d4f9-a5b5-4e1c-b495-ad35ce920782",
   "metadata": {},
   "outputs": [],
   "source": [
    "categories_2 = _beauty_data[\"categories_2\"].value_counts()\n",
    "selected_categories = categories_2[categories_2 > 100].index"
   ]
  },
  {
   "cell_type": "code",
   "execution_count": 8,
   "id": "3ac34df1-6413-466f-8140-c961868add7b",
   "metadata": {},
   "outputs": [],
   "source": [
    "_beauty_data = _beauty_data[_beauty_data[\"categories_2\"].isin(selected_categories)]"
   ]
  },
  {
   "cell_type": "code",
   "execution_count": 9,
   "id": "72d50588-2312-463a-a89f-0979276a4fdf",
   "metadata": {},
   "outputs": [],
   "source": [
    "men = _beauty_data[_beauty_data[\"categories_2\"]==\"Men's Grooming\"]"
   ]
  },
  {
   "cell_type": "code",
   "execution_count": null,
   "id": "c788d1a9-bb5a-444b-b404-c6c61fb72991",
   "metadata": {},
   "outputs": [],
   "source": [
    "encoder = ce.one_hot.OneHotEncoder(cols = ['categories_2', 'categories_3', 'categories_4'] , return_df = True, use_cat_names=True)\n",
    "x_train_data = encoder.fit_transform(_beauty_data)"
   ]
  },
  {
   "cell_type": "code",
   "execution_count": 38,
   "id": "8983ee09-63d0-4984-bc3e-eeaae35bea3d",
   "metadata": {},
   "outputs": [],
   "source": [
    "col = {\n",
    "    'categories_2_Hair Care': 'Hair Care',\n",
    "    'categories_2_Skin Care': 'Skin Care', \n",
    "    'categories_2_Makeup': 'Makeup',\n",
    "    'categories_2_Shave & Hair Removal': 'Shave & Hair Removal', \n",
    "    'categories_2_Tools & Accessories': 'Tools & Accessories',\n",
    "    'categories_2_Foot, Hand & Nail Care': 'Foot Hand Nail Care', \n",
    "    'categories_2_Personal Care': 'Personal Care',\n",
    "    'categories_2_Fragrance': 'Fragrance', \n",
    "    'categories_2_Salon & Spa Equipment': 'Salon & Spa Equipment',\n",
    "    'categories_2_Body Care': 'Body Care', \n",
    "    'categories_2_Oral Care': 'Oral Care',\n",
    "    'categories_3_Hair Extensions, Wigs & Accessories': 'Hair Extensions, Wigs & Accessories',\n",
    "    'categories_3_Hair Cutting Tools': 'Hair Cutting Tools',\n",
    "    'categories_3_Sunscreens & Tanning Products': 'Sunscreens & Tanning Products', \n",
    "    'categories_3_Eyes': 'Eyes',\n",
    "    'categories_3_Hair Accessories': 'Hair Accessories', \n",
    "    'categories_3_Lips': 'Lips',\n",
    "    'categories_3_Styling Products': 'Styling Products', \n",
    "    'categories_3_Body': 'Body',\n",
    "    'categories_3_Men': 'Men',\n",
    "    'categories_3_Makeup Brushes & Tools': 'Makeup Brushes & Tools',\n",
    "    'categories_3_Face': \"Face\",\n",
    "    'categories_3_': \"remove\", \n",
    "    'categories_3_Hair Loss Products': \"Hair Loss Products\",\n",
    "    'categories_3_Hair Masks': \"Hair Masks\", \n",
    "    'categories_3_Nail Art & Polish': \"Nail Art & Polish\",\n",
    "    'categories_3_Skin Care Tools': \"Skin Care Tools\", \n",
    "    'categories_3_Shampoo & Conditioner': \"Shampoo & Conditioner\",\n",
    "    'categories_3_Bath & Bathing Accessories': \"Bath & Bathing Accessories\", \n",
    "    'categories_3_Women': \"Women\",\n",
    "    'categories_3_Deodorants & Antiperspirants': \"Deodorants & Antiperspirants\",\n",
    "    'categories_3_Makeup Remover': \"Makeup Remover\", \n",
    "    'categories_3_Refillable Containers': \"remove_1\",\n",
    "    'categories_3_Hair Coloring Products': \"Hair Coloring Products\",\n",
    "    'categories_3_Piercing & Tattoo Supplies': \"Piercing & Tattoo Supplies\",\n",
    "    'categories_3_Foot & Hand Care': \"Foot & Hand Care\", \n",
    "    'categories_3_Tools & Accessories': \"Tools & Accessories\",\n",
    "    'categories_3_Nail Care': \"Nail Care\", \n",
    "    'categories_3_Hair Treatment Oils': \"Hair Treatment Oils\",\n",
    "    'categories_3_Bags & Cases': \"Bags\", \n",
    "    'categories_3_Makeup Palettes': \"Makeup Palettes\",\n",
    "    'categories_3_Moisturizer': \"Moisturizer\"\n",
    "}"
   ]
  },
  {
   "cell_type": "code",
   "execution_count": 39,
   "id": "357ad032-5d7b-4590-ad38-0fe1caf0a5a3",
   "metadata": {},
   "outputs": [],
   "source": [
    "x_train_data = x_train_data.rename(columns=col)"
   ]
  },
  {
   "cell_type": "code",
   "execution_count": 57,
   "id": "114e6623-a496-4f08-aa5b-17f4fe32bb51",
   "metadata": {},
   "outputs": [],
   "source": [
    "x_train_data.rename(columns={\"categories_3_Bath\":\"Bath\", \"categories_3_Bags\": \"Bags\", \"categories_4_Cleansers\": \"Cleanser\", \"categories_4_Moisturizers\": \"Moisturizer\"}, inplace=True)"
   ]
  },
  {
   "cell_type": "code",
   "execution_count": 63,
   "id": "4b48a0e1-a769-499a-9f78-b95083d203ba",
   "metadata": {},
   "outputs": [],
   "source": [
    "x_train_data.drop(columns=[\"Gender\"], inplace=True)"
   ]
  },
  {
   "cell_type": "code",
   "execution_count": null,
   "id": "a318cf49-817e-4179-b79a-6093b4cc4572",
   "metadata": {},
   "outputs": [],
   "source": [
    "x_train_data.rename(columns={\"store\": \"brand\"}, inplace=True)\n",
    "x_train_data.to_parquet(\"meta_beauty_cleaned.parquet\")"
   ]
  },
  {
   "cell_type": "code",
   "execution_count": null,
   "id": "80f0131f-1e6a-486a-9f9c-61f6355cae4b",
   "metadata": {},
   "outputs": [],
   "source": []
  },
  {
   "cell_type": "code",
   "execution_count": null,
   "id": "cfd7ce76-75ba-4d1e-b9cc-ab8578d15da0",
   "metadata": {},
   "outputs": [],
   "source": [
    "import pandas as pd\n",
    "_beauty_data = pd.read_parquet(\"meta_beauty_cleaned.parquet\")\n",
    "_beauty_data = _beauty_data[_beauty_data[\"title\"]!=\"\"]"
   ]
  },
  {
   "cell_type": "code",
   "execution_count": 25,
   "id": "f06c6efd-47a9-4864-a0e9-ca8189668997",
   "metadata": {},
   "outputs": [],
   "source": [
    "_beauty_data.drop(columns=[\"categories\", \"details\", \"categories_1\", \"categories_6\"], inplace=True)"
   ]
  },
  {
   "cell_type": "code",
   "execution_count": 27,
   "id": "94cf35d8-8b85-4b39-b7f9-c051a44e8bca",
   "metadata": {},
   "outputs": [],
   "source": [
    "_beauty_data.rename(columns={\"store\": \"brand\"}, inplace=True)"
   ]
  },
  {
   "cell_type": "code",
   "execution_count": 24,
   "id": "c1afaea1-57d5-48a7-b430-346ca86de993",
   "metadata": {},
   "outputs": [],
   "source": [
    "lipstick = _beauty_data[_beauty_data[\"categories_2\"]==\"National Lipstick Day\"]\n",
    "not_lipstick = _beauty_data[_beauty_data[\"categories_2\"]!=\"National Lipstick Day\"]"
   ]
  },
  {
   "cell_type": "code",
   "execution_count": 25,
   "id": "d5dbb422-cb9c-4cef-8689-02a17e2993e8",
   "metadata": {},
   "outputs": [
    {
     "name": "stderr",
     "output_type": "stream",
     "text": [
      "/var/folders/1n/0vbkzl6j51vfpgzy8_xndtxh0000gn/T/ipykernel_3950/4015495470.py:1: SettingWithCopyWarning: \n",
      "A value is trying to be set on a copy of a slice from a DataFrame.\n",
      "Try using .loc[row_indexer,col_indexer] = value instead\n",
      "\n",
      "See the caveats in the documentation: https://pandas.pydata.org/pandas-docs/stable/user_guide/indexing.html#returning-a-view-versus-a-copy\n",
      "  lipstick[\"categories_2\"] = \"Makeup\"\n",
      "/var/folders/1n/0vbkzl6j51vfpgzy8_xndtxh0000gn/T/ipykernel_3950/4015495470.py:2: SettingWithCopyWarning: \n",
      "A value is trying to be set on a copy of a slice from a DataFrame.\n",
      "Try using .loc[row_indexer,col_indexer] = value instead\n",
      "\n",
      "See the caveats in the documentation: https://pandas.pydata.org/pandas-docs/stable/user_guide/indexing.html#returning-a-view-versus-a-copy\n",
      "  lipstick[\"categories_3\"] = \"Lips\"\n"
     ]
    }
   ],
   "source": [
    "lipstick[\"categories_2\"] = \"Makeup\"\n",
    "lipstick[\"categories_3\"] = \"Lips\""
   ]
  },
  {
   "cell_type": "code",
   "execution_count": 27,
   "id": "658a3703-d4ef-46b8-b801-fd05dcd021fc",
   "metadata": {},
   "outputs": [],
   "source": [
    "_beauty_data[\"categories_4\"].value_counts().reset_index().to_csv(\"text.csv\")\n",
    "_beauty_data[\"categories_3\"].value_counts().reset_index().to_csv(\"text_1.csv\")\n",
    "\n",
    "# .replace({\"Shaving & Hair Removal\": \"Shave & Hair Removal\"}, inplace=True)"
   ]
  },
  {
   "cell_type": "code",
   "execution_count": 19,
   "id": "4ab3b4e7-e536-4d7e-9f15-f4b091b2420b",
   "metadata": {},
   "outputs": [
    {
     "name": "stderr",
     "output_type": "stream",
     "text": [
      "/var/folders/1n/0vbkzl6j51vfpgzy8_xndtxh0000gn/T/ipykernel_3950/3050758257.py:1: SettingWithCopyWarning: \n",
      "A value is trying to be set on a copy of a slice from a DataFrame.\n",
      "Try using .loc[row_indexer,col_indexer] = value instead\n",
      "\n",
      "See the caveats in the documentation: https://pandas.pydata.org/pandas-docs/stable/user_guide/indexing.html#returning-a-view-versus-a-copy\n",
      "  men[\"categories_2\"] = men[\"categories_3\"]\n",
      "/var/folders/1n/0vbkzl6j51vfpgzy8_xndtxh0000gn/T/ipykernel_3950/3050758257.py:2: SettingWithCopyWarning: \n",
      "A value is trying to be set on a copy of a slice from a DataFrame.\n",
      "Try using .loc[row_indexer,col_indexer] = value instead\n",
      "\n",
      "See the caveats in the documentation: https://pandas.pydata.org/pandas-docs/stable/user_guide/indexing.html#returning-a-view-versus-a-copy\n",
      "  men[\"categories_3\"] = men[\"categories_4\"]\n",
      "/var/folders/1n/0vbkzl6j51vfpgzy8_xndtxh0000gn/T/ipykernel_3950/3050758257.py:3: SettingWithCopyWarning: \n",
      "A value is trying to be set on a copy of a slice from a DataFrame.\n",
      "Try using .loc[row_indexer,col_indexer] = value instead\n",
      "\n",
      "See the caveats in the documentation: https://pandas.pydata.org/pandas-docs/stable/user_guide/indexing.html#returning-a-view-versus-a-copy\n",
      "  men[\"categories_4\"] = men[\"categories_5\"]\n"
     ]
    }
   ],
   "source": [
    "men[\"categories_2\"] = men[\"categories_3\"]\n",
    "men[\"categories_3\"] = men[\"categories_4\"]\n",
    "men[\"categories_4\"] = men[\"categories_5\"]"
   ]
  },
  {
   "cell_type": "code",
   "execution_count": 26,
   "id": "b4eed1ac-11ab-4534-a795-c5d0ba45187a",
   "metadata": {},
   "outputs": [],
   "source": [
    "_beauty_data = pd.concat([not_lipstick, lipstick])"
   ]
  },
  {
   "cell_type": "code",
   "execution_count": 33,
   "id": "2db83114-ab81-4d60-a731-9d1456a24380",
   "metadata": {},
   "outputs": [],
   "source": [
    "z_dict = {}\n",
    "z.fillna(\"\", inplace=True)\n",
    "for _,x in z.iterrows():\n",
    "    if x[\"categories_3\"] != x[\"cleaned\"]:\n",
    "        z_dict[x[\"categories_3\"]] =  x[\"cleaned\"]"
   ]
  },
  {
   "cell_type": "code",
   "execution_count": 34,
   "id": "2038a112-ca39-4815-a989-794da49a1a80",
   "metadata": {},
   "outputs": [
    {
     "name": "stderr",
     "output_type": "stream",
     "text": [
      "/var/folders/1n/0vbkzl6j51vfpgzy8_xndtxh0000gn/T/ipykernel_3950/1906117310.py:1: FutureWarning: A value is trying to be set on a copy of a DataFrame or Series through chained assignment using an inplace method.\n",
      "The behavior will change in pandas 3.0. This inplace method will never work because the intermediate object on which we are setting values always behaves as a copy.\n",
      "\n",
      "For example, when doing 'df[col].method(value, inplace=True)', try using 'df.method({col: value}, inplace=True)' or df[col] = df[col].method(value) instead, to perform the operation inplace on the original object.\n",
      "\n",
      "\n",
      "  _beauty_data[\"categories_3\"].replace(z_dict, inplace=True)\n"
     ]
    }
   ],
   "source": [
    "_beauty_data[\"categories_3\"].replace(z_dict, inplace=True)"
   ]
  },
  {
   "cell_type": "code",
   "execution_count": 16,
   "id": "1bd6f343-c67a-4f1f-931d-588f125533f9",
   "metadata": {},
   "outputs": [],
   "source": [
    "import pandas as pd\n",
    "beauty = pd.read_parquet(\"Beauty_and_Personal_Care.parquet\")"
   ]
  },
  {
   "cell_type": "code",
   "execution_count": 2,
   "id": "bc77c778-69bc-417a-9553-62dd5d680106",
   "metadata": {},
   "outputs": [],
   "source": [
    "beauty.drop(columns=[\"images\"], inplace=True)"
   ]
  },
  {
   "cell_type": "code",
   "execution_count": 3,
   "id": "00b6be1d-313f-49b6-a9b6-f674b2891db3",
   "metadata": {},
   "outputs": [],
   "source": [
    "beauty[\"text\"].fillna(\"\", inplace=True)"
   ]
  },
  {
   "cell_type": "code",
   "execution_count": 1,
   "id": "b573f114-50da-41a3-8110-f3c3381304b8",
   "metadata": {},
   "outputs": [],
   "source": [
    "import pandas as pd \n",
    "beauty = pd.read_parquet(\"Beauty_and_Personal_Care_raw.parquet\")"
   ]
  },
  {
   "cell_type": "code",
   "execution_count": 2,
   "id": "b49afaf4-a4a2-43a9-9bff-ac265f38c9a4",
   "metadata": {},
   "outputs": [],
   "source": [
    "from datetime import datetime \n",
    "\n",
    "beauty[\"date\"] = beauty[\"timestamp\"].apply(lambda x: datetime.fromtimestamp(x / 1000).strftime(\"%Y-%m-%d\"))\n",
    "beauty[\"year\"] = beauty[\"timestamp\"].apply(lambda x: datetime.fromtimestamp(x / 1000).year)"
   ]
  },
  {
   "cell_type": "code",
   "execution_count": 3,
   "id": "339353cb-4507-4d72-97e1-96e47f5b88e2",
   "metadata": {},
   "outputs": [],
   "source": [
    "beauty.drop(columns=[\"title\", \"text\"], inplace=True)"
   ]
  },
  {
   "cell_type": "code",
   "execution_count": 18,
   "id": "20087652-e65f-4fbc-ab04-d543c4cd0572",
   "metadata": {},
   "outputs": [],
   "source": [
    "beauty_2023 = beauty[beauty[\"year\"]==2023]"
   ]
  },
  {
   "cell_type": "code",
   "execution_count": 5,
   "id": "47bba242-a6bb-4339-b557-e6637299a35a",
   "metadata": {},
   "outputs": [],
   "source": [
    "meta = pd.read_parquet(\"meta_beauty_cleaned.parquet\")"
   ]
  },
  {
   "cell_type": "code",
   "execution_count": 19,
   "id": "a64c504e-da02-4c46-8624-77083a070ce8",
   "metadata": {},
   "outputs": [],
   "source": [
    "merged_2023 = beauty_2023.merge(meta, on=\"parent_asin\", how=\"inner\")"
   ]
  },
  {
   "cell_type": "code",
   "execution_count": null,
   "id": "4277fc09-5a40-4775-ba12-2dd73e4119ac",
   "metadata": {},
   "outputs": [],
   "source": [
    "merged_2023.drop(columns=[\"features_embeddings\", \"features\", \"description\", \"year\", \"timestamp\", \"verified_purchase\"], inplace=True)\n",
    "merged_2023.to_parquet(\"beauty_merged_2023.parquet\")"
   ]
  },
  {
   "cell_type": "code",
   "execution_count": null,
   "id": "14120423-fd1b-4a30-881e-345227698b6e",
   "metadata": {},
   "outputs": [],
   "source": []
  }
 ],
 "metadata": {
  "kernelspec": {
   "display_name": "Python 3 (ipykernel)",
   "language": "python",
   "name": "python3"
  },
  "language_info": {
   "codemirror_mode": {
    "name": "ipython",
    "version": 3
   },
   "file_extension": ".py",
   "mimetype": "text/x-python",
   "name": "python",
   "nbconvert_exporter": "python",
   "pygments_lexer": "ipython3",
   "version": "3.12.0"
  }
 },
 "nbformat": 4,
 "nbformat_minor": 5
}
